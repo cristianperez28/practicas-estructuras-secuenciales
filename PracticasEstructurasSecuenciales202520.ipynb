{
  "nbformat": 4,
  "nbformat_minor": 0,
  "metadata": {
    "colab": {
      "provenance": [],
      "authorship_tag": "ABX9TyPvqu8lNA2diRIvE+RfBL/y",
      "include_colab_link": true
    },
    "kernelspec": {
      "name": "python3",
      "display_name": "Python 3"
    },
    "language_info": {
      "name": "python"
    }
  },
  "cells": [
    {
      "cell_type": "markdown",
      "metadata": {
        "id": "view-in-github",
        "colab_type": "text"
      },
      "source": [
        "<a href=\"https://colab.research.google.com/github/cristianperez28/practicas-estructuras-secuenciales/blob/main/PracticasEstructurasSecuenciales202520.ipynb\" target=\"_parent\"><img src=\"https://colab.research.google.com/assets/colab-badge.svg\" alt=\"Open In Colab\"/></a>"
      ]
    },
    {
      "cell_type": "code",
      "execution_count": null,
      "metadata": {
        "id": "VOa2VaKgUGEY"
      },
      "outputs": [],
      "source": []
    },
    {
      "cell_type": "markdown",
      "source": [
        "# Ejercicios de practica con estructuras secuenciales\n",
        "\n"
      ],
      "metadata": {
        "id": "OgpkaJ8NUxe6"
      }
    },
    {
      "cell_type": "markdown",
      "source": [
        "## Informacion personal\n",
        "Diseña un programa que muestre la siguiente información:\n",
        "- Tu nombre\n",
        " - Tu dirección, con ciudad, estado y código postal\n",
        "  - Tu número de teléfono\n",
        " - Tu especialización universitaria\n",
        "\n",
        "\n",
        "### pseudocodigo\n",
        "```\n",
        "program personal_imfo\n",
        "Start\n",
        "  Declare String name, address, city, state, zip, phone, career\n",
        "\n",
        "  Display \"programa de informacion personal\"\n",
        "  Display \"ingrese su nombre\"\n",
        "  Input name\n",
        "  Display \"ingrese su direccion\"\n",
        "  Input address\n",
        "  Display \"ingrese su ciudad\"\n",
        "  Input city\n",
        "  Display \"ingrese su estado\"\n",
        "  Input state\n",
        "  Display \"ingrese su codigo postal\"\n",
        "  Input zip\n",
        "  Display \"ingrese su nuemro de telefono\"\n",
        "  Input phone\n",
        "  Display \"ingrese su carrera\"\n",
        "  Input career\n",
        "\n",
        "  Display \"Informacion personbal:\"\n",
        "  Display \"Nombre: \", name\n",
        "  Display \"Direccion: \", address\n",
        "  Display \"Ciudad: \", city\n",
        "  Display \"Estado: \", state\n",
        "  Display \"Codigo postal: \", zip\n",
        "  Display \"Nmero de telefono: \", phone\n",
        "  Display \"Carrera: \", career\n",
        "\n",
        "  \n",
        "End\n",
        "\n",
        "```"
      ],
      "metadata": {
        "id": "Vfs1nFK8VcAD"
      }
    },
    {
      "cell_type": "code",
      "source": [],
      "metadata": {
        "id": "RWzigR7wbwX7"
      },
      "execution_count": null,
      "outputs": []
    },
    {
      "cell_type": "code",
      "source": [
        "# Programa para informacion personal\n",
        "\n",
        "print(\"programa de informacion persona\")\n",
        "\n",
        "# variables\n",
        "name= input(\"Ingrese su nombre\")\n",
        "address= input(\"Ingrese su direccion\")\n",
        "city= input(\"Ingrese su ciudad\")\n",
        "state= input(\"ingrese su estado\")\n",
        "zip= input(\"Ingrese su codigo postal\")\n",
        "phone= input(\"Ingrese su numero de telefono\")\n",
        "career= input(\"Ingrese su carrera\")\n",
        "\n",
        "print(\"Informacion personal: \")\n",
        "print(\"Nombre: \", name)\n",
        "print(\"Direccion:\", address)\n",
        "print(\"ciudad: \", city)\n",
        "print(\"Estado: \", state)\n",
        "print(\"Codigo postal: \", zip)\n",
        "print(\"Numero de telefono: \", phone)\n"
      ],
      "metadata": {
        "colab": {
          "base_uri": "https://localhost:8080/"
        },
        "id": "8T7rRUNBcYVi",
        "outputId": "a9a3988c-c45d-4747-adaf-574509aade58"
      },
      "execution_count": 1,
      "outputs": [
        {
          "output_type": "stream",
          "name": "stdout",
          "text": [
            "programa de informacion persona\n",
            "Ingrese su nombrecristian perez\n",
            "Ingrese su direccionlorica cordoba\n",
            "Ingrese su ciudadlorica cordoba\n",
            "ingrese su estado3\n",
            "Ingrese su codigo postal231020\n",
            "Ingrese su numero de telefono3013938308\n",
            "Ingrese su carreraingieneria mecanica \n",
            "Informacion personal: \n",
            "Nombre:  cristian perez\n",
            "Direccion: lorica cordoba\n",
            "ciudad:  lorica cordoba\n",
            "Estado:  3\n",
            "Codigo postal:  231020\n",
            "Numero de telefono:  3013938308\n"
          ]
        }
      ]
    },
    {
      "cell_type": "code",
      "source": [],
      "metadata": {
        "id": "cAPVCHOCffap"
      },
      "execution_count": 1,
      "outputs": []
    }
  ]
}